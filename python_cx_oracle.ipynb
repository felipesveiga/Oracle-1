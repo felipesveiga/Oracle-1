{
 "cells": [
  {
   "cell_type": "markdown",
   "id": "a2530c67-8e5b-4ca5-90de-8e5036b0f4b5",
   "metadata": {},
   "source": [
    "<p style = 'font-size:40px'> <strong>Integrating Python and Oracle Databases</strong></p>"
   ]
  },
  {
   "cell_type": "markdown",
   "id": "12f93e20-afcb-4e66-b70a-2f94af7dd866",
   "metadata": {},
   "source": [
    "<p style = 'font-size:30px'> <strong> Introduction</strong> </p>"
   ]
  },
  {
   "cell_type": "markdown",
   "id": "ec2180cb-6e00-43ac-8a37-ac671899998f",
   "metadata": {},
   "source": [
    "* <p style = 'font-size:20px'> The goal of this project is to demonstrate Python's capability to interact with Oracle Databases through the usage of cx_Oracle library. </p>\n",
    "* <p style = 'font-size:20px'> To do this, I have simulated a situation in which I work for a hardware selling company that needs to get a variety of data about its performance. My role is to get access to the company's Oracle database in order to get the information demanded. </p>\n",
    "* <p style = 'font-size:20px'> You can find the user's Entity Relationship Model (ERM) below: </p>"
   ]
  },
  {
   "cell_type": "markdown",
   "id": "78a28054-d091-468d-9548-3f6176cd514c",
   "metadata": {},
   "source": [
    "<img src='database.png'>"
   ]
  },
  {
   "cell_type": "markdown",
   "id": "0d0748be-d3a1-4f15-8eeb-d3afe5073b63",
   "metadata": {},
   "source": [
    "<p style = 'font-size:30px'> <strong>Project's tasks</strong> </p>"
   ]
  },
  {
   "cell_type": "markdown",
   "id": "89fd3625-905a-4182-b3ba-b0d2fcf1522c",
   "metadata": {},
   "source": [
    "<p style = 'font-size:20px'> 1) Obtain the level of storage of each of the company's warehouses.  </p>\n",
    "<p style = 'font-size:20px'> 2) List the most prolific salespeople. </p>\n",
    "<p style = 'font-size:20px'> 3) Point out the product with most units sold for each of the company's customers. </p>\n",
    "<p style = 'font-size:20px'> 4) Get the annual revenue per product category.  </p>\n",
    "<p style = 'font-size:20px'> 5) Increase all CPU products price by 10%. </p>"
   ]
  },
  {
   "cell_type": "markdown",
   "id": "80043f3f-f8c6-4e6e-82ff-250e73f7ebeb",
   "metadata": {},
   "source": [
    "<p style = 'font-size:30px'><strong>Connecting to the company's data</strong></p>"
   ]
  },
  {
   "cell_type": "code",
   "execution_count": 1,
   "id": "0b5c33f4-0f7c-4e1d-9513-979c607db5d9",
   "metadata": {},
   "outputs": [],
   "source": [
    "# Firstly we need to configure the Data Source Name (DSN).\n",
    "# We are going to create a variable that stores all the informations related to our DSN.\n",
    "# You must pass the host name, the port number and the service name of the database.\n",
    "\n",
    "import cx_Oracle\n",
    "dsn = cx_Oracle.makedsn('localhost.localdomain', 1521, service_name = 'orcl')"
   ]
  },
  {
   "cell_type": "code",
   "execution_count": 2,
   "id": "91d2200c-c693-4fd0-b5c8-5f39333b255f",
   "metadata": {},
   "outputs": [
    {
     "name": "stdin",
     "output_type": "stream",
     "text": [
      "Write your database password: ······\n"
     ]
    }
   ],
   "source": [
    "# Now, we are going to connect us to the user in which the demanded data can be found. Its name is 'OT'.\n",
    "# If you are uncomfortable in with displaying the user's password in your code, you can use the getpass object from thet \n",
    "                                                                                                            #getpass library.\n",
    "\n",
    "from getpass import getpass\n",
    "password  = getpass('Write your database password:')\n",
    "\n",
    "connection = cx_Oracle.connect('OT', password, dsn = dsn)"
   ]
  },
  {
   "cell_type": "markdown",
   "id": "c624154c-853f-4e83-856b-c14da6bba99d",
   "metadata": {},
   "source": [
    "<p style = 'font-size:30px'> <strong> Now let's get our data! </strong></p>"
   ]
  },
  {
   "cell_type": "markdown",
   "id": "e9db6a67-8770-44ae-a096-8ae0d34a068b",
   "metadata": {},
   "source": [
    "<p style = 'font-size:30px'> <em> Task 1 <span style = 'font-size:15px'>Obtain the storage level of each of the company's warehouses. </span></em> </p>"
   ]
  },
  {
   "cell_type": "code",
   "execution_count": 3,
   "id": "ca2bb428-3eac-431a-b2f1-801638f79c46",
   "metadata": {},
   "outputs": [
    {
     "name": "stdout",
     "output_type": "stream",
     "text": [
      "[(0, 0), (0, 1), (0, 2), (0, 3), (1, 0), (1, 1), (1, 2), (1, 3)]\n"
     ]
    }
   ],
   "source": [
    "# Since the company has 8 warehouses, we are going to create a subplots figure. Each subplot will present the storage levels for\n",
    "                                                                                                                    # each warehouse\n",
    "\n",
    "# We also are going to create a list containg the position of each subplot in our figure.\n",
    "l = [(i,j) for i in range(2) for j in range(4)]\n",
    "print(l)"
   ]
  },
  {
   "cell_type": "code",
   "execution_count": 10,
   "id": "e5dd820e-d88b-4a4c-b906-5d8d36200f42",
   "metadata": {},
   "outputs": [
    {
     "name": "stderr",
     "output_type": "stream",
     "text": [
      "/usr/local/lib/python3.6/site-packages/ipykernel_launcher.py:24: UserWarning: Matplotlib is currently using module://ipykernel.pylab.backend_inline, which is a non-GUI backend, so cannot show the figure.\n"
     ]
    },
    {
     "data": {
      "image/png": "[encoded data removed]",
      "text/plain": [
       "<Figure size 1296x360 with 8 Axes>"
      ]
     },
     "metadata": {
      "needs_background": "light"
     },
     "output_type": "display_data"
    }
   ],
   "source": [
    "# Now, we are going to iterate over that list and plot the storage level for each product category available.\n",
    "# We are going to use the enumerate method so we can take advantage of the list's indices to perform our queries.\n",
    "import matplotlib.pyplot as plt\n",
    "import pandas as pd\n",
    "fig, ax = plt.subplots(nrows=2, ncols=4, figsize=(18,5), sharey=True)\n",
    "\n",
    "for i, position in enumerate(l):\n",
    "      \n",
    "    query = f'''SELECT I.WAREHOUSE_ID, PC.CATEGORY_NAME, SUM(I.QUANTITY)\n",
    "    FROM PRODUCT_CATEGORIES PC, PRODUCTS P, INVENTORIES I\n",
    "    WHERE P.CATEGORY_ID=PC.CATEGORY_ID\n",
    "    AND P.PRODUCT_ID=I.PRODUCT_ID\n",
    "    AND WAREHOUSE_ID={i+1}\n",
    "    GROUP BY I.WAREHOUSE_ID, PC.CATEGORY_NAME\n",
    "    '''\n",
    "    # Each time our query is run, pandas will create a DataFrame that contains the storage information of each warehouse.\n",
    "    table = pd.read_sql(query, connection)\n",
    "    # We are going to use the table's information to plot a chart for every single warehouse.\n",
    "    ax[position].bar(table['CATEGORY_NAME'], table['SUM(I.QUANTITY)'],width=0.5)\n",
    "    ax[position].set_title(f'Warehouse {i+1}') \n",
    "\n",
    "plt.tight_layout()\n",
    "plt.savefig('task1.png')\n",
    "fig.show()"
   ]
  },
  {
   "cell_type": "markdown",
   "id": "3541e9eb-20e0-4263-97cb-3fb19be0fb55",
   "metadata": {},
   "source": [
    "<p style = 'font-size:30px'>  <em>Task 2 </em> <span style = 'font-size:15px'>List the most prolific salespeople. </span> </p>"
   ]
  },
  {
   "cell_type": "code",
   "execution_count": 8,
   "id": "f9084a86-78cf-4f1c-9449-ca4f135634af",
   "metadata": {},
   "outputs": [
    {
     "data": {
      "image/png": "[encoded data removed]",
      "text/plain": [
       "<Figure size 432x288 with 1 Axes>"
      ]
     },
     "metadata": {
      "needs_background": "light"
     },
     "output_type": "display_data"
    }
   ],
   "source": [
    "# This is a simple task: we must perform a join among the tables ORDERS and EMPLOYEES followed by a GROUP BY \n",
    "query = ''' SELECT E.LAST_NAME, COUNT(O.ORDER_ID) TOTAL_SALES\n",
    "            FROM ORDERS O, EMPLOYEES E\n",
    "            WHERE O.SALESMAN_ID = E.EMPLOYEE_ID\n",
    "            GROUP BY O.SALESMAN_ID, E.LAST_NAME\n",
    "            ORDER BY TOTAL_SALES ASC\n",
    "            '''\n",
    "# The pandas DataFrame obtained will contain the surname and the amount of sales made by a certain salesperson.\n",
    "salesman = pd.read_sql(query, connection)\n",
    "y = salesman['LAST_NAME']\n",
    "x = salesman['TOTAL_SALES']\n",
    "plt.barh(y,x, height = 0.68)\n",
    "plt.tight_layout()\n",
    "plt.savefig('task2')"
   ]
  },
  {
   "cell_type": "markdown",
   "id": "7b5c549d-2e96-4525-acd8-ab0780de1fd2",
   "metadata": {},
   "source": [
    "<p style = 'font-size:30px'> <em> Task 3 </em> <span style = 'font-size:15px'>Point out the product category with most units sold for each of the company's customers. </span>  </p>"
   ]
  },
  {
   "cell_type": "code",
   "execution_count": 22,
   "id": "70d7536e-f193-41c9-8c19-f9449a587910",
   "metadata": {},
   "outputs": [
    {
     "name": "stderr",
     "output_type": "stream",
     "text": [
      "/usr/local/lib/python3.6/site-packages/ipykernel_launcher.py:19: FutureWarning: Indexing with multiple keys (implicitly converted to a tuple of keys) will be deprecated, use a list instead.\n"
     ]
    },
    {
     "data": {
      "text/html": [
       "<div>\n",
       "<style scoped>\n",
       "    .dataframe tbody tr th:only-of-type {\n",
       "        vertical-align: middle;\n",
       "    }\n",
       "\n",
       "    .dataframe tbody tr th {\n",
       "        vertical-align: top;\n",
       "    }\n",
       "\n",
       "    .dataframe thead th {\n",
       "        text-align: right;\n",
       "    }\n",
       "</style>\n",
       "<table border=\"1\" class=\"dataframe\">\n",
       "  <thead>\n",
       "    <tr style=\"text-align: right;\">\n",
       "      <th></th>\n",
       "      <th>CATEGORY_NAME</th>\n",
       "      <th>TOTAL_QUANTITY</th>\n",
       "    </tr>\n",
       "    <tr>\n",
       "      <th>NAME</th>\n",
       "      <th></th>\n",
       "      <th></th>\n",
       "    </tr>\n",
       "  </thead>\n",
       "  <tbody>\n",
       "    <tr>\n",
       "      <th>AECOM</th>\n",
       "      <td>Storage</td>\n",
       "      <td>287</td>\n",
       "    </tr>\n",
       "    <tr>\n",
       "      <th>AbbVie</th>\n",
       "      <td>Video Card</td>\n",
       "      <td>827</td>\n",
       "    </tr>\n",
       "    <tr>\n",
       "      <th>Abbott Laboratories</th>\n",
       "      <td>Video Card</td>\n",
       "      <td>503</td>\n",
       "    </tr>\n",
       "    <tr>\n",
       "      <th>Aflac</th>\n",
       "      <td>Video Card</td>\n",
       "      <td>1351</td>\n",
       "    </tr>\n",
       "    <tr>\n",
       "      <th>Alcoa</th>\n",
       "      <td>Video Card</td>\n",
       "      <td>1512</td>\n",
       "    </tr>\n",
       "    <tr>\n",
       "      <th>American Electric Power</th>\n",
       "      <td>Storage</td>\n",
       "      <td>500</td>\n",
       "    </tr>\n",
       "    <tr>\n",
       "      <th>AutoNation</th>\n",
       "      <td>Video Card</td>\n",
       "      <td>823</td>\n",
       "    </tr>\n",
       "    <tr>\n",
       "      <th>AutoZone</th>\n",
       "      <td>Video Card</td>\n",
       "      <td>235</td>\n",
       "    </tr>\n",
       "    <tr>\n",
       "      <th>Baker Hughes</th>\n",
       "      <td>Video Card</td>\n",
       "      <td>207</td>\n",
       "    </tr>\n",
       "    <tr>\n",
       "      <th>Bank of New York Mellon Corp.</th>\n",
       "      <td>Storage</td>\n",
       "      <td>127</td>\n",
       "    </tr>\n",
       "    <tr>\n",
       "      <th>Becton Dickinson</th>\n",
       "      <td>Video Card</td>\n",
       "      <td>242</td>\n",
       "    </tr>\n",
       "    <tr>\n",
       "      <th>Bristol-Myers Squibb</th>\n",
       "      <td>Video Card</td>\n",
       "      <td>289</td>\n",
       "    </tr>\n",
       "    <tr>\n",
       "      <th>Centene</th>\n",
       "      <td>Video Card</td>\n",
       "      <td>661</td>\n",
       "    </tr>\n",
       "    <tr>\n",
       "      <th>CenturyLink</th>\n",
       "      <td>Video Card</td>\n",
       "      <td>803</td>\n",
       "    </tr>\n",
       "    <tr>\n",
       "      <th>Colgate-Palmolive</th>\n",
       "      <td>CPU</td>\n",
       "      <td>144</td>\n",
       "    </tr>\n",
       "    <tr>\n",
       "      <th>Community Health Systems</th>\n",
       "      <td>Video Card</td>\n",
       "      <td>1133</td>\n",
       "    </tr>\n",
       "    <tr>\n",
       "      <th>ConAgra Foods</th>\n",
       "      <td>Video Card</td>\n",
       "      <td>49</td>\n",
       "    </tr>\n",
       "    <tr>\n",
       "      <th>DTE Energy</th>\n",
       "      <td>Video Card</td>\n",
       "      <td>300</td>\n",
       "    </tr>\n",
       "    <tr>\n",
       "      <th>Dollar General</th>\n",
       "      <td>Storage</td>\n",
       "      <td>105</td>\n",
       "    </tr>\n",
       "    <tr>\n",
       "      <th>Dollar Tree</th>\n",
       "      <td>Mother Board</td>\n",
       "      <td>70</td>\n",
       "    </tr>\n",
       "    <tr>\n",
       "      <th>Eli Lilly</th>\n",
       "      <td>Video Card</td>\n",
       "      <td>369</td>\n",
       "    </tr>\n",
       "    <tr>\n",
       "      <th>Emerson Electric</th>\n",
       "      <td>Video Card</td>\n",
       "      <td>1278</td>\n",
       "    </tr>\n",
       "    <tr>\n",
       "      <th>Facebook</th>\n",
       "      <td>Storage</td>\n",
       "      <td>555</td>\n",
       "    </tr>\n",
       "    <tr>\n",
       "      <th>Freeport-McMoRan</th>\n",
       "      <td>Mother Board</td>\n",
       "      <td>104</td>\n",
       "    </tr>\n",
       "    <tr>\n",
       "      <th>Gap</th>\n",
       "      <td>Storage</td>\n",
       "      <td>123</td>\n",
       "    </tr>\n",
       "    <tr>\n",
       "      <th>General Mills</th>\n",
       "      <td>Video Card</td>\n",
       "      <td>1008</td>\n",
       "    </tr>\n",
       "    <tr>\n",
       "      <th>Goodyear Tire &amp; Rubber</th>\n",
       "      <td>Video Card</td>\n",
       "      <td>392</td>\n",
       "    </tr>\n",
       "    <tr>\n",
       "      <th>Health Net</th>\n",
       "      <td>Video Card</td>\n",
       "      <td>441</td>\n",
       "    </tr>\n",
       "    <tr>\n",
       "      <th>International Paper</th>\n",
       "      <td>Video Card</td>\n",
       "      <td>1195</td>\n",
       "    </tr>\n",
       "    <tr>\n",
       "      <th>Jabil Circuit</th>\n",
       "      <td>Video Card</td>\n",
       "      <td>1713</td>\n",
       "    </tr>\n",
       "    <tr>\n",
       "      <th>Micron Technology</th>\n",
       "      <td>Video Card</td>\n",
       "      <td>304</td>\n",
       "    </tr>\n",
       "    <tr>\n",
       "      <th>NGL Energy Partners</th>\n",
       "      <td>Storage</td>\n",
       "      <td>304</td>\n",
       "    </tr>\n",
       "    <tr>\n",
       "      <th>NextEra Energy</th>\n",
       "      <td>Video Card</td>\n",
       "      <td>1424</td>\n",
       "    </tr>\n",
       "    <tr>\n",
       "      <th>Nucor</th>\n",
       "      <td>Storage</td>\n",
       "      <td>343</td>\n",
       "    </tr>\n",
       "    <tr>\n",
       "      <th>PG&amp;E Corp.</th>\n",
       "      <td>Storage</td>\n",
       "      <td>279</td>\n",
       "    </tr>\n",
       "    <tr>\n",
       "      <th>PNC Financial Services Group</th>\n",
       "      <td>Storage</td>\n",
       "      <td>126</td>\n",
       "    </tr>\n",
       "    <tr>\n",
       "      <th>PPG Industries</th>\n",
       "      <td>Video Card</td>\n",
       "      <td>380</td>\n",
       "    </tr>\n",
       "    <tr>\n",
       "      <th>Plains GP Holdings</th>\n",
       "      <td>Video Card</td>\n",
       "      <td>612</td>\n",
       "    </tr>\n",
       "    <tr>\n",
       "      <th>Progressive</th>\n",
       "      <td>Video Card</td>\n",
       "      <td>548</td>\n",
       "    </tr>\n",
       "    <tr>\n",
       "      <th>Raytheon</th>\n",
       "      <td>Video Card</td>\n",
       "      <td>862</td>\n",
       "    </tr>\n",
       "    <tr>\n",
       "      <th>Sempra Energy</th>\n",
       "      <td>Storage</td>\n",
       "      <td>98</td>\n",
       "    </tr>\n",
       "    <tr>\n",
       "      <th>Southern</th>\n",
       "      <td>Video Card</td>\n",
       "      <td>868</td>\n",
       "    </tr>\n",
       "    <tr>\n",
       "      <th>Supervalu</th>\n",
       "      <td>Video Card</td>\n",
       "      <td>759</td>\n",
       "    </tr>\n",
       "    <tr>\n",
       "      <th>Tenet Healthcare</th>\n",
       "      <td>Storage</td>\n",
       "      <td>360</td>\n",
       "    </tr>\n",
       "    <tr>\n",
       "      <th>Thermo Fisher Scientific</th>\n",
       "      <td>Video Card</td>\n",
       "      <td>221</td>\n",
       "    </tr>\n",
       "    <tr>\n",
       "      <th>US Foods Holding</th>\n",
       "      <td>Video Card</td>\n",
       "      <td>575</td>\n",
       "    </tr>\n",
       "    <tr>\n",
       "      <th>Whole Foods Market</th>\n",
       "      <td>Video Card</td>\n",
       "      <td>462</td>\n",
       "    </tr>\n",
       "  </tbody>\n",
       "</table>\n",
       "</div>"
      ],
      "text/plain": [
       "                              CATEGORY_NAME  TOTAL_QUANTITY\n",
       "NAME                                                       \n",
       "AECOM                               Storage             287\n",
       "AbbVie                           Video Card             827\n",
       "Abbott Laboratories              Video Card             503\n",
       "Aflac                            Video Card            1351\n",
       "Alcoa                            Video Card            1512\n",
       "American Electric Power             Storage             500\n",
       "AutoNation                       Video Card             823\n",
       "AutoZone                         Video Card             235\n",
       "Baker Hughes                     Video Card             207\n",
       "Bank of New York Mellon Corp.       Storage             127\n",
       "Becton Dickinson                 Video Card             242\n",
       "Bristol-Myers Squibb             Video Card             289\n",
       "Centene                          Video Card             661\n",
       "CenturyLink                      Video Card             803\n",
       "Colgate-Palmolive                       CPU             144\n",
       "Community Health Systems         Video Card            1133\n",
       "ConAgra Foods                    Video Card              49\n",
       "DTE Energy                       Video Card             300\n",
       "Dollar General                      Storage             105\n",
       "Dollar Tree                    Mother Board              70\n",
       "Eli Lilly                        Video Card             369\n",
       "Emerson Electric                 Video Card            1278\n",
       "Facebook                            Storage             555\n",
       "Freeport-McMoRan               Mother Board             104\n",
       "Gap                                 Storage             123\n",
       "General Mills                    Video Card            1008\n",
       "Goodyear Tire & Rubber           Video Card             392\n",
       "Health Net                       Video Card             441\n",
       "International Paper              Video Card            1195\n",
       "Jabil Circuit                    Video Card            1713\n",
       "Micron Technology                Video Card             304\n",
       "NGL Energy Partners                 Storage             304\n",
       "NextEra Energy                   Video Card            1424\n",
       "Nucor                               Storage             343\n",
       "PG&E Corp.                          Storage             279\n",
       "PNC Financial Services Group        Storage             126\n",
       "PPG Industries                   Video Card             380\n",
       "Plains GP Holdings               Video Card             612\n",
       "Progressive                      Video Card             548\n",
       "Raytheon                         Video Card             862\n",
       "Sempra Energy                       Storage              98\n",
       "Southern                         Video Card             868\n",
       "Supervalu                        Video Card             759\n",
       "Tenet Healthcare                    Storage             360\n",
       "Thermo Fisher Scientific         Video Card             221\n",
       "US Foods Holding                 Video Card             575\n",
       "Whole Foods Market               Video Card             462"
      ]
     },
     "execution_count": 22,
     "metadata": {},
     "output_type": "execute_result"
    }
   ],
   "source": [
    "# This task will demand us a big join operation in order to unite the companies' names, the product categories they consume and the\n",
    "# total quantity bought in a single table.\n",
    "# The query below will give us the name of each of the company's customers along with the products categories they buy and their\n",
    "                                                                                                # respective quantity \n",
    "query = '''SELECT C.NAME, PC.CATEGORY_NAME, SUM(OI.QUANTITY) TOTAL_QUANTITY\n",
    "FROM ORDER_ITEMS OI, ORDERS O, CUSTOMERS C, PRODUCTS P, PRODUCT_CATEGORIES PC\n",
    "WHERE OI.ORDER_ID=O.ORDER_ID\n",
    "AND O.CUSTOMER_ID = C.CUSTOMER_ID\n",
    "AND OI.PRODUCT_ID = P.PRODUCT_ID  \n",
    "AND P.CATEGORY_ID=PC.CATEGORY_ID\n",
    "GROUP BY (C.NAME, PC.CATEGORY_NAME)\n",
    "ORDER BY C.NAME\n",
    "'''\n",
    "\n",
    "c_o_info = pd.read_sql(query, connection, index_col=['NAME'])\n",
    "# We need to perform a second group operation on pandas to get the data demanded. This would be simpler than making the whole process\n",
    "                                                                                                                # on Oracle.\n",
    "c_o_info.groupby(level = 0)['CATEGORY_NAME','TOTAL_QUANTITY'].max()\n"
   ]
  },
  {
   "cell_type": "markdown",
   "id": "3e9e3d69-47d6-4ada-930d-d0e685e51d77",
   "metadata": {},
   "source": [
    "<p style = 'font-size:30px'> <em> Task 4</em> <span style = 'font-size:15px'>Get the annual revenue per product category. </span> </p>"
   ]
  },
  {
   "cell_type": "code",
   "execution_count": 73,
   "id": "abb15590-494d-48f2-818e-6e664bd8f6a8",
   "metadata": {},
   "outputs": [
    {
     "data": {
      "text/plain": [
       "<AxesSubplot:xlabel='ORDER_DATE', ylabel='REVENUE'>"
      ]
     },
     "execution_count": 73,
     "metadata": {},
     "output_type": "execute_result"
    },
    {
     "data": {
      "image/png": "[encoded data removed]",
      "text/plain": [
       "<Figure size 1584x576 with 1 Axes>"
      ]
     },
     "metadata": {
      "needs_background": "light"
     },
     "output_type": "display_data"
    }
   ],
   "source": [
    "# This query is a bit tricky: firstly, we need to perform a join operation that returns a daily report on the revenue obtained from\n",
    "# the sellings of each product categories.\n",
    "query = ''' SELECT O.ORDER_DATE, PC.CATEGORY_NAME, SUM(OI.UNIT_PRICE * OI.QUANTITY) REVENUE\n",
    "            FROM ORDER_ITEMS OI, ORDERS O, PRODUCTS P, PRODUCT_CATEGORIES PC\n",
    "            WHERE PC.CATEGORY_ID = P.CATEGORY_ID\n",
    "            AND P.PRODUCT_ID = OI.PRODUCT_ID\n",
    "            AND O.ORDER_ID = OI.ORDER_ID\n",
    "            GROUP BY PC.CATEGORY_NAME, O.ORDER_DATE\n",
    "            ORDER BY O.ORDER_DATE\n",
    "'''\n",
    "\n",
    "\n",
    "revenue = pd.read_sql(query, connection,parse_dates = True, index_col = ['ORDER_DATE'])\n",
    "\n",
    "# To get the annual data, we have to convert the DataFrame's index to a Period with yearly frequency.\n",
    "revenue.index = revenue.index.to_period('Y')\n",
    "# After it, we must perform a groupby operation on pandas to sum each product categories revenue based on the year shown in the index.\n",
    "revenue = revenue.groupby([revenue.index, 'CATEGORY_NAME']).sum()\n",
    "\n",
    "# To create the chart we aim we need to use seaborn's barplot figure. To use it in a easier way we are going to reset the index\n",
    "# of the 'revenue' DF.\n",
    "revenue.reset_index(level = [0,1], inplace = True)\n",
    "\n",
    "# We've reset the DF index in order to make it eaiser to assign its columns as the arguments of the barplot method.  \n",
    "import seaborn as sns\n",
    "plt.figure(figsize=(22,8))\n",
    "sns.barplot(data=revenue, x='ORDER_DATE', hue='CATEGORY_NAME', y='REVENUE')"
   ]
  },
  {
   "cell_type": "markdown",
   "id": "afb6953f-e001-4835-96e9-4addf986707c",
   "metadata": {},
   "source": [
    "<p style = 'font-size:30px'> Task 5 <span style = 'font-size:15px'> Increase all CPU products price by 10%.</span> </p>"
   ]
  },
  {
   "cell_type": "code",
   "execution_count": 42,
   "id": "5e38bbe3-fe48-4e02-b441-bdf228d162f7",
   "metadata": {},
   "outputs": [
    {
     "data": {
      "text/html": [
       "<div>\n",
       "<style scoped>\n",
       "    .dataframe tbody tr th:only-of-type {\n",
       "        vertical-align: middle;\n",
       "    }\n",
       "\n",
       "    .dataframe tbody tr th {\n",
       "        vertical-align: top;\n",
       "    }\n",
       "\n",
       "    .dataframe thead th {\n",
       "        text-align: right;\n",
       "    }\n",
       "</style>\n",
       "<table border=\"1\" class=\"dataframe\">\n",
       "  <thead>\n",
       "    <tr style=\"text-align: right;\">\n",
       "      <th></th>\n",
       "      <th>PRODUCT_ID</th>\n",
       "      <th>CATEGORY_NAME</th>\n",
       "      <th>LIST_PRICE</th>\n",
       "      <th>CPU_NEW</th>\n",
       "    </tr>\n",
       "  </thead>\n",
       "  <tbody>\n",
       "    <tr>\n",
       "      <th>0</th>\n",
       "      <td>228</td>\n",
       "      <td>CPU</td>\n",
       "      <td>3410.46</td>\n",
       "      <td>3751.51</td>\n",
       "    </tr>\n",
       "    <tr>\n",
       "      <th>1</th>\n",
       "      <td>248</td>\n",
       "      <td>CPU</td>\n",
       "      <td>2774.98</td>\n",
       "      <td>3052.48</td>\n",
       "    </tr>\n",
       "    <tr>\n",
       "      <th>2</th>\n",
       "      <td>249</td>\n",
       "      <td>CPU</td>\n",
       "      <td>2660.72</td>\n",
       "      <td>2926.79</td>\n",
       "    </tr>\n",
       "    <tr>\n",
       "      <th>3</th>\n",
       "      <td>2</td>\n",
       "      <td>CPU</td>\n",
       "      <td>2554.99</td>\n",
       "      <td>2810.49</td>\n",
       "    </tr>\n",
       "    <tr>\n",
       "      <th>4</th>\n",
       "      <td>45</td>\n",
       "      <td>CPU</td>\n",
       "      <td>2501.69</td>\n",
       "      <td>2751.86</td>\n",
       "    </tr>\n",
       "    <tr>\n",
       "      <th>...</th>\n",
       "      <td>...</td>\n",
       "      <td>...</td>\n",
       "      <td>...</td>\n",
       "      <td>...</td>\n",
       "    </tr>\n",
       "    <tr>\n",
       "      <th>65</th>\n",
       "      <td>124</td>\n",
       "      <td>CPU</td>\n",
       "      <td>594.99</td>\n",
       "      <td>654.49</td>\n",
       "    </tr>\n",
       "    <tr>\n",
       "      <th>66</th>\n",
       "      <td>72</td>\n",
       "      <td>CPU</td>\n",
       "      <td>589.99</td>\n",
       "      <td>648.99</td>\n",
       "    </tr>\n",
       "    <tr>\n",
       "      <th>67</th>\n",
       "      <td>155</td>\n",
       "      <td>CPU</td>\n",
       "      <td>588.95</td>\n",
       "      <td>647.85</td>\n",
       "    </tr>\n",
       "    <tr>\n",
       "      <th>68</th>\n",
       "      <td>80</td>\n",
       "      <td>CPU</td>\n",
       "      <td>564.89</td>\n",
       "      <td>621.38</td>\n",
       "    </tr>\n",
       "    <tr>\n",
       "      <th>69</th>\n",
       "      <td>132</td>\n",
       "      <td>CPU</td>\n",
       "      <td>554.99</td>\n",
       "      <td>610.49</td>\n",
       "    </tr>\n",
       "  </tbody>\n",
       "</table>\n",
       "<p>70 rows × 4 columns</p>\n",
       "</div>"
      ],
      "text/plain": [
       "    PRODUCT_ID CATEGORY_NAME  LIST_PRICE  CPU_NEW\n",
       "0          228           CPU     3410.46  3751.51\n",
       "1          248           CPU     2774.98  3052.48\n",
       "2          249           CPU     2660.72  2926.79\n",
       "3            2           CPU     2554.99  2810.49\n",
       "4           45           CPU     2501.69  2751.86\n",
       "..         ...           ...         ...      ...\n",
       "65         124           CPU      594.99   654.49\n",
       "66          72           CPU      589.99   648.99\n",
       "67         155           CPU      588.95   647.85\n",
       "68          80           CPU      564.89   621.38\n",
       "69         132           CPU      554.99   610.49\n",
       "\n",
       "[70 rows x 4 columns]"
      ]
     },
     "execution_count": 42,
     "metadata": {},
     "output_type": "execute_result"
    }
   ],
   "source": [
    "# This particular query will demand us to create a cursor in order to update to CPU products' prices.\n",
    "# Firstly, I'll present you a DataFrame containing all the CPU products prices.\n",
    "query = ''' SELECT P.PRODUCT_ID, PC.CATEGORY_NAME, P.LIST_PRICE\n",
    "            FROM PRODUCTS P, PRODUCT_CATEGORIES PC\n",
    "          WHERE P.CATEGORY_ID=PC.CATEGORY_ID\n",
    "            AND PC.CATEGORY_NAME='CPU' '''\n",
    "cpu = pd.read_sql(query, connection)\n",
    "\n",
    "# I am also going to create a new column showing how each price of the LIST_PRICE column should look like after our UPDATE operation.\n",
    "# You can see that the CPU_NEW column contains the new CPU prices the company aims to settle.\n",
    "cpu.eval('CPU_NEW=LIST_PRICE*1.1', inplace= True)\n",
    "cpu.round(2)"
   ]
  },
  {
   "cell_type": "code",
   "execution_count": 44,
   "id": "401a2f90-140c-4206-9095-f7b4d4da159c",
   "metadata": {},
   "outputs": [],
   "source": [
    "# Let's create the cursor and perform the UPDATE statement:\n",
    "cursor = connection.cursor()\n",
    "command = '''UPDATE PRODUCTS \n",
    "    SET LIST_PRICE =  LIST_PRICE * 1.1\n",
    "    WHERE PRODUCT_ID IN \n",
    "    (SELECT P.PRODUCT_ID\n",
    "            FROM PRODUCTS P, PRODUCT_CATEGORIES PC\n",
    "            WHERE P.CATEGORY_ID=PC.CATEGORY_ID\n",
    "            AND PC.CATEGORY_NAME='CPU')'''\n",
    "\n",
    "cursor.execute(command)"
   ]
  },
  {
   "cell_type": "code",
   "execution_count": 68,
   "id": "2b8101a5-8fe6-403e-945d-e72a7d02437f",
   "metadata": {},
   "outputs": [
    {
     "data": {
      "text/plain": [
       "0     3751.51\n",
       "1     3052.48\n",
       "2     2926.79\n",
       "3     2810.49\n",
       "4     2751.86\n",
       "       ...   \n",
       "65     654.49\n",
       "66     648.99\n",
       "67     647.85\n",
       "68     621.38\n",
       "69     610.49\n",
       "Name: LIST_PRICE, Length: 70, dtype: float64"
      ]
     },
     "execution_count": 68,
     "metadata": {},
     "output_type": "execute_result"
    }
   ],
   "source": [
    "# Now, let's verify if the new LIST_PRICE prices are in accordance with the ones from CPU_NEW.\n",
    "query = ''' SELECT P.PRODUCT_ID, PC.CATEGORY_NAME, P.LIST_PRICE\n",
    "            FROM PRODUCTS P, PRODUCT_CATEGORIES PC\n",
    "            WHERE P.CATEGORY_ID=PC.CATEGORY_ID\n",
    "            AND PC.CATEGORY_NAME='CPU' '''\n",
    "new_cpu = pd.read_sql(query, connection)\n",
    "\n",
    "# You can see that the new LIST_PRICE values match the ones from CPU_NEW from the 'cpu' DF. \n",
    "new_cpu['LIST_PRICE']"
   ]
  }
 ],
 "metadata": {
  "kernelspec": {
   "display_name": "Python 3",
   "language": "python",
   "name": "python3"
  },
  "language_info": {
   "codemirror_mode": {
    "name": "ipython",
    "version": 3
   },
   "file_extension": ".py",
   "mimetype": "text/x-python",
   "name": "python",
   "nbconvert_exporter": "python",
   "pygments_lexer": "ipython3",
   "version": "3.6.8"
  }
 },
 "nbformat": 4,
 "nbformat_minor": 5
}

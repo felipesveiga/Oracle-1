{
 "cells": [
  {
   "cell_type": "markdown",
   "id": "a2530c67-8e5b-4ca5-90de-8e5036b0f4b5",
   "metadata": {},
   "source": [
    "<p style = 'font-size:40px'> <strong>Integrating Python and Oracle Databases</strong></p>"
   ]
  },
  {
   "cell_type": "markdown",
   "id": "12f93e20-afcb-4e66-b70a-2f94af7dd866",
   "metadata": {},
   "source": [
    "<p style = 'font-size:30px'> <strong> Introduction</strong> </p>"
   ]
  },
  {
   "cell_type": "markdown",
   "id": "ec2180cb-6e00-43ac-8a37-ac671899998f",
   "metadata": {},
   "source": [
    "* <p style = 'font-size:20px'> The goal of this project is to demonstrate Python's capability to interact with Oracle Databases through the usage of cx_Oracle library. </p>\n",
    "* <p style = 'font-size:20px'> To do this, I have simulated a situation in which I work for a hardware selling company that needs to get a variety of data about its performance. My role is to get access to the company's Oracle database in order to get the information demanded. </p>\n",
    "* <p style = 'font-size:20px'> You can find the user's table diagram below </p>"
   ]
  },
  {
   "cell_type": "markdown",
   "id": "78a28054-d091-468d-9548-3f6176cd514c",
   "metadata": {},
   "source": [
    "<img src='database.png'>"
   ]
  },
  {
   "cell_type": "markdown",
   "id": "0d0748be-d3a1-4f15-8eeb-d3afe5073b63",
   "metadata": {},
   "source": [
    "<p style = 'font-size:30px'> <strong>Project's tasks</strong> </p>"
   ]
  },
  {
   "cell_type": "markdown",
   "id": "89fd3625-905a-4182-b3ba-b0d2fcf1522c",
   "metadata": {},
   "source": [
    "* <p style = 'font-size:20px'> I've got the following tasks: </p>\n",
    "<p style = 'font-size:20px'> 1) Obtain the level of storage of each of the company's warehouses.  </p>\n",
    "<p style = 'font-size:20px'> 2) List the most prolific salespeople. </p>\n",
    "<p style = 'font-size:20px'> 3) Point out the product with most units sold for each of the company's customers. </p>\n",
    "<p style = 'font-size:20px'> 4) Get the annual revenue per product category.  </p>\n",
    "<p style = 'font-size:20px'> 5) Increase all CPU products price by 10%. </p>"
   ]
  },
  {
   "cell_type": "markdown",
   "id": "80043f3f-f8c6-4e6e-82ff-250e73f7ebeb",
   "metadata": {},
   "source": [
    "<p style = 'font-size:30px'><strong>Connecting to the company's data</strong></p>"
   ]
  },
  {
   "cell_type": "code",
   "execution_count": 1,
   "id": "0b5c33f4-0f7c-4e1d-9513-979c607db5d9",
   "metadata": {},
   "outputs": [],
   "source": [
    "# Firstly we need to inform some informations about the Data Source Name (DSN)\n",
    "# We are going to create a variable that stores all the informations related to our DSN\n",
    "# You must pass the host name, the port number and the service name of the database\n",
    "\n",
    "import cx_Oracle\n",
    "dsn = cx_Oracle.makedsn('localhost.localdomain', 1521, service_name = 'orcl')"
   ]
  },
  {
   "cell_type": "code",
   "execution_count": 3,
   "id": "91d2200c-c693-4fd0-b5c8-5f39333b255f",
   "metadata": {},
   "outputs": [
    {
     "name": "stdin",
     "output_type": "stream",
     "text": [
      "Write your database password: ······\n"
     ]
    }
   ],
   "source": [
    "# Now, we are going to connect us to the user in which the demanded data can be find. Its name is 'OT'.\n",
    "# If you are uncomfortable in whowing the user's password in your code, you can use the getpass object from thet getpass library.\n",
    "\n",
    "from getpass import getpass\n",
    "password  = getpass('Write your database password:')\n",
    "\n",
    "connection = cx_Oracle.connect('OT', password, dsn = dsn)"
   ]
  },
  {
   "cell_type": "markdown",
   "id": "c624154c-853f-4e83-856b-c14da6bba99d",
   "metadata": {},
   "source": [
    "<p style = 'font-size:30px'> <strong> Now let's get our data! </strong></p>"
   ]
  },
  {
   "cell_type": "markdown",
   "id": "e9db6a67-8770-44ae-a096-8ae0d34a068b",
   "metadata": {},
   "source": [
    "<p style = 'font-size:30px'> <em> Task 1 <span style = 'font-size:15px'>Obtain the storage level of each of the company's warehouses. </span></em> </p>"
   ]
  },
  {
   "cell_type": "code",
   "execution_count": 11,
   "id": "ca2bb428-3eac-431a-b2f1-801638f79c46",
   "metadata": {},
   "outputs": [
    {
     "name": "stdout",
     "output_type": "stream",
     "text": [
      "[(0, 0), (0, 1), (0, 2), (0, 3), (1, 0), (1, 1), (1, 2), (1, 3)]\n"
     ]
    }
   ],
   "source": [
    "# Since the company has 8 warehouses, we are going to create a subplots figure. Each subplot will present the storage levels for\n",
    "                                                                                                                    # each warehouse\n",
    "\n",
    "# We also are going to create a list containg the position of each subplot in our figure.\n",
    "l = [(i,j) for i in range(2) for j in range(4)]\n",
    "print(l)"
   ]
  },
  {
   "cell_type": "code",
   "execution_count": 13,
   "id": "e5dd820e-d88b-4a4c-b906-5d8d36200f42",
   "metadata": {},
   "outputs": [
    {
     "name": "stderr",
     "output_type": "stream",
     "text": [
      "/usr/local/lib/python3.6/site-packages/ipykernel_launcher.py:21: UserWarning: Matplotlib is currently using module://ipykernel.pylab.backend_inline, which is a non-GUI backend, so cannot show the figure.\n"
     ]
    },
    {
     "data": {
      "image/png": "[encoded data removed]",
      "text/plain": [
       "<Figure size 1296x360 with 8 Axes>"
      ]
     },
     "metadata": {
      "needs_background": "light"
     },
     "output_type": "display_data"
    }
   ],
   "source": [
    "# Now, we are going to iterate over that list and plot the storage level for each product category available.\n",
    "# We are going to use the enumerate method so we can take advantage of the list's indices to perform our queries.\n",
    "fig, ax = plt.subplots(nrows=2, ncols=4, figsize=(18,5), sharey=True)\n",
    "\n",
    "for i, position in enumerate(l):\n",
    "      \n",
    "    query = f'''SELECT I.WAREHOUSE_ID, PC.CATEGORY_NAME, SUM(I.QUANTITY)\n",
    "    FROM PRODUCT_CATEGORIES PC, PRODUCTS P, INVENTORIES I\n",
    "    WHERE P.CATEGORY_ID=PC.CATEGORY_ID\n",
    "    AND P.PRODUCT_ID=I.PRODUCT_ID\n",
    "    AND WAREHOUSE_ID={i+1}\n",
    "    GROUP BY I.WAREHOUSE_ID, PC.CATEGORY_NAME\n",
    "    '''\n",
    "    # Each time our query is run, pandas will create a DataFrame that contains the storage levels for each warehouse.\n",
    "    table = pd.read_sql(query, connection)\n",
    "    # We are going to use the table's information to plot a chart for every single warehouse.\n",
    "    ax[position].bar(table['CATEGORY_NAME'], table['SUM(I.QUANTITY)'],width=0.5)\n",
    "    ax[position].set_title(f'Warehouse {i+1}') \n",
    "\n",
    "plt.tight_layout()\n",
    "fig.show()"
   ]
  }
 ],
 "metadata": {
  "kernelspec": {
   "display_name": "Python 3",
   "language": "python",
   "name": "python3"
  },
  "language_info": {
   "codemirror_mode": {
    "name": "ipython",
    "version": 3
   },
   "file_extension": ".py",
   "mimetype": "text/x-python",
   "name": "python",
   "nbconvert_exporter": "python",
   "pygments_lexer": "ipython3",
   "version": "3.6.8"
  }
 },
 "nbformat": 4,
 "nbformat_minor": 5
}
